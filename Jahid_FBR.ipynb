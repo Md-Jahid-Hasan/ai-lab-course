{
  "nbformat": 4,
  "nbformat_minor": 0,
  "metadata": {
    "colab": {
      "name": "Jahid FBR.ipynb",
      "provenance": [],
      "collapsed_sections": [],
      "include_colab_link": true
    },
    "kernelspec": {
      "name": "python3",
      "display_name": "Python 3"
    },
    "language_info": {
      "name": "python"
    }
  },
  "cells": [
    {
      "cell_type": "markdown",
      "metadata": {
        "id": "view-in-github",
        "colab_type": "text"
      },
      "source": [
        "<a href=\"https://colab.research.google.com/github/Md-Jahid-Hasan/ai-lab-course/blob/master/Jahid_FBR.ipynb\" target=\"_parent\"><img src=\"https://colab.research.google.com/assets/colab-badge.svg\" alt=\"Open In Colab\"/></a>"
      ]
    },
    {
      "cell_type": "markdown",
      "metadata": {
        "id": "E5JA-Ijo3dpz"
      },
      "source": [
        "Topic name: Food business analysis and prediction using Machine Learning.\n",
        "\n",
        "Members info:\n",
        "\n",
        "1. Md Sharif khan      ID: 181-15-2002\n",
        "2. Md Jahid Hasan      ID: 181-15-1905\n",
        "3. Md Masidul Hasan    ID: 181-15-1947"
      ]
    },
    {
      "cell_type": "code",
      "metadata": {
        "id": "J-I89tDu4knv",
        "colab": {
          "base_uri": "https://localhost:8080/"
        },
        "outputId": "0624c6bb-553a-4402-8d80-31b02e3b9cd1"
      },
      "source": [
        "from google.colab import drive\n",
        "drive.mount('/content/gdrive')"
      ],
      "execution_count": null,
      "outputs": [
        {
          "output_type": "stream",
          "text": [
            "Go to this URL in a browser: https://accounts.google.com/o/oauth2/auth?client_id=947318989803-6bn6qk8qdgf4n4g3pfee6491hc0brc4i.apps.googleusercontent.com&redirect_uri=urn%3aietf%3awg%3aoauth%3a2.0%3aoob&scope=email%20https%3a%2f%2fwww.googleapis.com%2fauth%2fdocs.test%20https%3a%2f%2fwww.googleapis.com%2fauth%2fdrive%20https%3a%2f%2fwww.googleapis.com%2fauth%2fdrive.photos.readonly%20https%3a%2f%2fwww.googleapis.com%2fauth%2fpeopleapi.readonly%20https%3a%2f%2fwww.googleapis.com%2fauth%2fdrive.activity.readonly%20https%3a%2f%2fwww.googleapis.com%2fauth%2fexperimentsandconfigs%20https%3a%2f%2fwww.googleapis.com%2fauth%2fphotos.native&response_type=code\n",
            "\n",
            "Enter your authorization code:\n",
            "4/1AY0e-g4VBsFnLdWWZ55Plf6XdL_v1hnNAnVNEr0VWL9wZ-uekf7LEv_8OVA\n",
            "Mounted at /content/gdrive\n"
          ],
          "name": "stdout"
        }
      ]
    },
    {
      "cell_type": "code",
      "metadata": {
        "id": "K5HpmjF67Gml"
      },
      "source": [
        "import pandas as pd\n",
        "primary_data = pd.read_csv('gdrive/My Drive/Colab Notebooks/FBRD.csv')"
      ],
      "execution_count": null,
      "outputs": []
    },
    {
      "cell_type": "code",
      "metadata": {
        "id": "o1ccuSgp78yE",
        "colab": {
          "base_uri": "https://localhost:8080/"
        },
        "outputId": "965203f7-2dd0-4f57-9e06-a43c209fe53f"
      },
      "source": [
        "primary_data.head()\n",
        "primary_data.info()"
      ],
      "execution_count": null,
      "outputs": [
        {
          "output_type": "stream",
          "text": [
            "<class 'pandas.core.frame.DataFrame'>\n",
            "RangeIndex: 422 entries, 0 to 421\n",
            "Data columns (total 19 columns):\n",
            " #   Column                           Non-Null Count  Dtype \n",
            "---  ------                           --------------  ----- \n",
            " 0   Age                              422 non-null    object\n",
            " 1   Gender                           422 non-null    object\n",
            " 2   Marital_status                   422 non-null    object\n",
            " 3   Division                         422 non-null    object\n",
            " 4   Home_town                        422 non-null    object\n",
            " 5   Living_Town                      422 non-null    object\n",
            " 6   Is_urban                         422 non-null    object\n",
            " 7   Work                             422 non-null    object\n",
            " 8   Income                           422 non-null    object\n",
            " 9   take_food_from_restuarent_month  422 non-null    object\n",
            " 10  Order_food_from_online_month     422 non-null    object\n",
            " 11  Spicy                            422 non-null    int64 \n",
            " 12  Sweet                            422 non-null    int64 \n",
            " 13  Preferable_price_BDT             422 non-null    object\n",
            " 14  New_recipe                       422 non-null    object\n",
            " 15  Street_food                      422 non-null    int64 \n",
            " 16  Restuarent_food                  422 non-null    int64 \n",
            " 17  Cost_rest_month                  422 non-null    object\n",
            " 18  Food_type                        422 non-null    object\n",
            "dtypes: int64(4), object(15)\n",
            "memory usage: 62.8+ KB\n"
          ],
          "name": "stdout"
        }
      ]
    },
    {
      "cell_type": "code",
      "metadata": {
        "id": "87bY6v2R8NXE"
      },
      "source": [
        "train = primary_data\n",
        "# train = train.drop('Timestamp', axis=1)\n",
        "# train.head()"
      ],
      "execution_count": null,
      "outputs": []
    },
    {
      "cell_type": "code",
      "metadata": {
        "id": "YlIR1lD3_Kbd"
      },
      "source": [
        "train = train.rename(columns={'Marital status': 'Marital_status', 'Select your division': 'Division',\n",
        "                              'Home town': 'Home_town', 'Living Town': 'Living_Town',\n",
        "                              'Do you live in an urban area?': 'Is_urban',\n",
        "                              'Type of work': 'Work',\n",
        "                              'Your monthly Income': 'Income',\n",
        "                              'Number of time takes foods from restaurants in a month': 'take_food_from_restuarent_month',\n",
        "                              'Number of times order foods from online in a month': 'Order_food_from_online_month',\n",
        "                              'How much spicy food do you like?': 'Spicy',\n",
        "                              'How much sweet food do you like?': 'Sweet',\n",
        "                              'What should be the preferable price for you? (price in BDT)': 'Preferable_price_BDT',\n",
        "                              'Do you want new recipes?': 'New_recipe',\n",
        "                              'How much do you like street foods?': 'Street_food',\n",
        "                              \"How much do you like restaurant's foods?\": 'Restuarent_food',\n",
        "                              'The approximate amount for restaurant cost in a month.': 'Cost_rest_month',\n",
        "                              'Which type of foods do you like most?': 'Food_type'})"
      ],
      "execution_count": null,
      "outputs": []
    },
    {
      "cell_type": "code",
      "metadata": {
        "id": "dIgsyM-cG--a",
        "colab": {
          "base_uri": "https://localhost:8080/"
        },
        "outputId": "d1202502-3de2-46a3-a63c-ffe28ae97e1b"
      },
      "source": [
        "train.columns"
      ],
      "execution_count": null,
      "outputs": [
        {
          "output_type": "execute_result",
          "data": {
            "text/plain": [
              "Index(['Age', 'Gender', 'Marital_status', 'Division', 'Home_town',\n",
              "       'Living_Town', 'Is_urban', 'Work', 'Income',\n",
              "       'take_food_from_restuarent_month', 'Order_food_from_online_month',\n",
              "       'Spicy', 'Sweet', 'Preferable_price_BDT', 'New_recipe', 'Street_food',\n",
              "       'Restuarent_food', 'Cost_rest_month', 'Food_type'],\n",
              "      dtype='object')"
            ]
          },
          "metadata": {
            "tags": []
          },
          "execution_count": 6
        }
      ]
    },
    {
      "cell_type": "code",
      "metadata": {
        "id": "5Yl8kUZED-ZS",
        "colab": {
          "base_uri": "https://localhost:8080/",
          "height": 360
        },
        "outputId": "6c8f0ade-9814-4cc3-b668-e47df673bd2a"
      },
      "source": [
        "train.head()"
      ],
      "execution_count": null,
      "outputs": [
        {
          "output_type": "execute_result",
          "data": {
            "text/html": [
              "<div>\n",
              "<style scoped>\n",
              "    .dataframe tbody tr th:only-of-type {\n",
              "        vertical-align: middle;\n",
              "    }\n",
              "\n",
              "    .dataframe tbody tr th {\n",
              "        vertical-align: top;\n",
              "    }\n",
              "\n",
              "    .dataframe thead th {\n",
              "        text-align: right;\n",
              "    }\n",
              "</style>\n",
              "<table border=\"1\" class=\"dataframe\">\n",
              "  <thead>\n",
              "    <tr style=\"text-align: right;\">\n",
              "      <th></th>\n",
              "      <th>Age</th>\n",
              "      <th>Gender</th>\n",
              "      <th>Marital_status</th>\n",
              "      <th>Division</th>\n",
              "      <th>Home_town</th>\n",
              "      <th>Living_Town</th>\n",
              "      <th>Is_urban</th>\n",
              "      <th>Work</th>\n",
              "      <th>Income</th>\n",
              "      <th>take_food_from_restuarent_month</th>\n",
              "      <th>Order_food_from_online_month</th>\n",
              "      <th>Spicy</th>\n",
              "      <th>Sweet</th>\n",
              "      <th>Preferable_price_BDT</th>\n",
              "      <th>New_recipe</th>\n",
              "      <th>Street_food</th>\n",
              "      <th>Restuarent_food</th>\n",
              "      <th>Cost_rest_month</th>\n",
              "      <th>Food_type</th>\n",
              "    </tr>\n",
              "  </thead>\n",
              "  <tbody>\n",
              "    <tr>\n",
              "      <th>0</th>\n",
              "      <td>16-30</td>\n",
              "      <td>Male</td>\n",
              "      <td>Unmarried</td>\n",
              "      <td>Dhaka</td>\n",
              "      <td>Rangpur</td>\n",
              "      <td>Dhaka</td>\n",
              "      <td>Yes</td>\n",
              "      <td>Private Job</td>\n",
              "      <td>30000+</td>\n",
              "      <td>1-5</td>\n",
              "      <td>1-5</td>\n",
              "      <td>4</td>\n",
              "      <td>3</td>\n",
              "      <td>101-200</td>\n",
              "      <td>Yes</td>\n",
              "      <td>4</td>\n",
              "      <td>3</td>\n",
              "      <td>501-1000</td>\n",
              "      <td>Traditional bengali food</td>\n",
              "    </tr>\n",
              "    <tr>\n",
              "      <th>1</th>\n",
              "      <td>16-30</td>\n",
              "      <td>Male</td>\n",
              "      <td>Unmarried</td>\n",
              "      <td>Rajshahi</td>\n",
              "      <td>Sirajganj</td>\n",
              "      <td>Dhaka</td>\n",
              "      <td>No</td>\n",
              "      <td>Student</td>\n",
              "      <td>1-10000</td>\n",
              "      <td>0</td>\n",
              "      <td>0</td>\n",
              "      <td>4</td>\n",
              "      <td>5</td>\n",
              "      <td>101-200</td>\n",
              "      <td>Yes</td>\n",
              "      <td>5</td>\n",
              "      <td>4</td>\n",
              "      <td>1-500</td>\n",
              "      <td>Traditional bengali food</td>\n",
              "    </tr>\n",
              "    <tr>\n",
              "      <th>2</th>\n",
              "      <td>16-30</td>\n",
              "      <td>Male</td>\n",
              "      <td>Unmarried</td>\n",
              "      <td>Rajshahi</td>\n",
              "      <td>Khagrachhari</td>\n",
              "      <td>Dhaka</td>\n",
              "      <td>Yes</td>\n",
              "      <td>Student</td>\n",
              "      <td>0</td>\n",
              "      <td>1-5</td>\n",
              "      <td>0</td>\n",
              "      <td>5</td>\n",
              "      <td>5</td>\n",
              "      <td>1-50</td>\n",
              "      <td>Yes</td>\n",
              "      <td>5</td>\n",
              "      <td>5</td>\n",
              "      <td>1-500</td>\n",
              "      <td>Fast food</td>\n",
              "    </tr>\n",
              "    <tr>\n",
              "      <th>3</th>\n",
              "      <td>16-30</td>\n",
              "      <td>Male</td>\n",
              "      <td>Married</td>\n",
              "      <td>Khulna</td>\n",
              "      <td>Magura</td>\n",
              "      <td>Dhaka</td>\n",
              "      <td>Yes</td>\n",
              "      <td>Student</td>\n",
              "      <td>0</td>\n",
              "      <td>1-5</td>\n",
              "      <td>0</td>\n",
              "      <td>2</td>\n",
              "      <td>4</td>\n",
              "      <td>51-100</td>\n",
              "      <td>Yes</td>\n",
              "      <td>4</td>\n",
              "      <td>3</td>\n",
              "      <td>1-500</td>\n",
              "      <td>Traditional bengali food</td>\n",
              "    </tr>\n",
              "    <tr>\n",
              "      <th>4</th>\n",
              "      <td>16-30</td>\n",
              "      <td>Male</td>\n",
              "      <td>Married</td>\n",
              "      <td>Dhaka</td>\n",
              "      <td>Chapai Nawabganj</td>\n",
              "      <td>Dhaka</td>\n",
              "      <td>Yes</td>\n",
              "      <td>Student</td>\n",
              "      <td>1-10000</td>\n",
              "      <td>6-10</td>\n",
              "      <td>6-10</td>\n",
              "      <td>5</td>\n",
              "      <td>2</td>\n",
              "      <td>51-100</td>\n",
              "      <td>No</td>\n",
              "      <td>4</td>\n",
              "      <td>2</td>\n",
              "      <td>1-500</td>\n",
              "      <td>Fast food</td>\n",
              "    </tr>\n",
              "  </tbody>\n",
              "</table>\n",
              "</div>"
            ],
            "text/plain": [
              "     Age Gender  ... Cost_rest_month                 Food_type\n",
              "0  16-30   Male  ...        501-1000  Traditional bengali food\n",
              "1  16-30   Male  ...           1-500  Traditional bengali food\n",
              "2  16-30   Male  ...           1-500                 Fast food\n",
              "3  16-30   Male  ...           1-500  Traditional bengali food\n",
              "4  16-30   Male  ...           1-500                 Fast food\n",
              "\n",
              "[5 rows x 19 columns]"
            ]
          },
          "metadata": {
            "tags": []
          },
          "execution_count": 7
        }
      ]
    },
    {
      "cell_type": "code",
      "metadata": {
        "id": "5ToGw8HvER8C"
      },
      "source": [
        "age = list(train['Age'].unique())\n",
        "for i,j in enumerate(age):\n",
        "  train['Age'] = train['Age'].replace(j,i)\n"
      ],
      "execution_count": null,
      "outputs": []
    },
    {
      "cell_type": "code",
      "metadata": {
        "id": "KBYCv0iVFYsy"
      },
      "source": [
        "gender = list(train['Gender'].unique())\n",
        "for i,j in enumerate(gender):\n",
        "  train['Gender'] = train['Gender'].replace(j,i)\n"
      ],
      "execution_count": null,
      "outputs": []
    },
    {
      "cell_type": "code",
      "metadata": {
        "id": "JzIlkvkeF62z"
      },
      "source": [
        "status = list(train['Marital_status'].unique())\n",
        "for i,j in enumerate(status):\n",
        "  train['Marital_status'] = train['Marital_status'].replace(j,i)\n"
      ],
      "execution_count": null,
      "outputs": []
    },
    {
      "cell_type": "code",
      "metadata": {
        "id": "D4mMXH_EGL_R"
      },
      "source": [
        "division = list(train['Division'].unique())\n",
        "for i,j in enumerate(division):\n",
        "  train['Division'] = train['Division'].replace(j,i)"
      ],
      "execution_count": null,
      "outputs": []
    },
    {
      "cell_type": "code",
      "metadata": {
        "id": "0Ay0zqk4GUFh",
        "colab": {
          "base_uri": "https://localhost:8080/"
        },
        "outputId": "9737ff1a-6f89-49f1-c226-3aaa7bf7efc5"
      },
      "source": [
        "p_data = list(train['Living_Town'].unique())\n",
        "print(p_data)\n",
        "for i,j in enumerate(p_data):\n",
        "  train['Living_Town'] = train['Living_Town'].replace(j,i)\n"
      ],
      "execution_count": null,
      "outputs": [
        {
          "output_type": "stream",
          "text": [
            "['Dhaka', 'Gazipur', 'Tangail', 'Faridpur', 'Rajbari', 'Chattogram', 'Bogura', 'Rajshahi', 'Sirajganj', \"Cox's Bazar\", 'Jhenaidah', 'Barishal', 'Patuakhali', 'Mymensingh', 'Lalmonirhat', 'Manikganj', 'Lakshmipur', 'Brahmanbaria', 'Joypurhat', 'Jashore', 'Narsingdi', 'Chapai Nawabganj', 'Kishoreganj', 'Sherpur', 'Jamalpur', 'Munshiganj', 'Moulvibazar', 'Cumilla', 'Noakhali', 'Kurigram', 'Naogaon', 'Narail', 'Kushtia', 'Natore']\n"
          ],
          "name": "stdout"
        }
      ]
    },
    {
      "cell_type": "code",
      "metadata": {
        "id": "O__8D7TNOC-s",
        "colab": {
          "base_uri": "https://localhost:8080/"
        },
        "outputId": "fd7020b7-c87b-4b52-fd3b-dd6c05818c05"
      },
      "source": [
        "p_data = list(train['Home_town'].unique())\n",
        "print(p_data)\n",
        "for i,j in enumerate(p_data):\n",
        "  train['Home_town'] = train['Home_town'].replace(j,i)"
      ],
      "execution_count": null,
      "outputs": [
        {
          "output_type": "stream",
          "text": [
            "['Rangpur', 'Sirajganj', 'Khagrachhari', 'Magura', 'Chapai Nawabganj', 'Dhaka', 'Gazipur', 'Tangail', 'Faridpur', 'Manikganj', 'Thakurgaon', 'Barishal', 'Rajbari', 'Rajshahi', 'Kishoreganj', 'Bogura', 'Cumilla', 'Mymensingh', 'Jhenaidah', 'Patuakhali', 'Natore', 'Munshiganj', 'Lalmonirhat', 'Noakhali', 'Brahmanbaria', 'Jamalpur', 'Joypurhat', 'Pabna', 'Narsingdi', 'Narayanganj', 'Sherpur', 'Pirojpur', 'Chandpur', 'Satkhira', 'Naogaon', 'Feni', \"Cox's Bazar\", 'Jashore', 'Moulvibazar', 'Netrakona', 'Chattogram', 'Sunamganj', 'Lakshmipur', 'Kurigram', 'Narail', 'Kushtia', 'Gopalganj']\n"
          ],
          "name": "stdout"
        }
      ]
    },
    {
      "cell_type": "code",
      "metadata": {
        "id": "VYDofyz_Gv3J",
        "colab": {
          "base_uri": "https://localhost:8080/"
        },
        "outputId": "487d9ef9-4f4b-4211-b48b-1066f643823a"
      },
      "source": [
        "p_data = list(train['Is_urban'].unique())\n",
        "print(p_data)\n",
        "for i,j in enumerate(p_data):\n",
        "  train['Is_urban'] = train['Is_urban'].replace(j,i)"
      ],
      "execution_count": null,
      "outputs": [
        {
          "output_type": "stream",
          "text": [
            "['Yes', 'No']\n"
          ],
          "name": "stdout"
        }
      ]
    },
    {
      "cell_type": "code",
      "metadata": {
        "id": "AyJM-JdAG6k-",
        "colab": {
          "base_uri": "https://localhost:8080/"
        },
        "outputId": "a44bf91f-19ec-480e-820a-0c7ed2e59251"
      },
      "source": [
        "p_data = list(train['Work'].unique())\n",
        "print(p_data)\n",
        "for i,j in enumerate(p_data):\n",
        "  train['Work'] = train['Work'].replace(j,i)"
      ],
      "execution_count": null,
      "outputs": [
        {
          "output_type": "stream",
          "text": [
            "['Private Job', 'Student', 'None', 'Govt. Job', 'Business']\n"
          ],
          "name": "stdout"
        }
      ]
    },
    {
      "cell_type": "code",
      "metadata": {
        "id": "qEwXcj6LHDvh",
        "colab": {
          "base_uri": "https://localhost:8080/"
        },
        "outputId": "06a49c2b-24b9-4d96-e686-65353a2be19d"
      },
      "source": [
        "p_data = list(train['Income'].unique())\n",
        "print(p_data)\n",
        "for i,j in enumerate(p_data):\n",
        "  train['Income'] = train['Income'].replace(j,i)"
      ],
      "execution_count": null,
      "outputs": [
        {
          "output_type": "stream",
          "text": [
            "['30000+', '1-10000', '0', '20001-30000', '10001-20000']\n"
          ],
          "name": "stdout"
        }
      ]
    },
    {
      "cell_type": "code",
      "metadata": {
        "id": "UdNdk9ztHYwp",
        "colab": {
          "base_uri": "https://localhost:8080/"
        },
        "outputId": "9e2a2c73-26e4-4907-daf5-0ccce8715a83"
      },
      "source": [
        "p_data = list(train['take_food_from_restuarent_month'].unique())\n",
        "print(p_data)\n",
        "for i,j in enumerate(p_data):\n",
        "  train['take_food_from_restuarent_month'] = train['take_food_from_restuarent_month'].replace(j,i)"
      ],
      "execution_count": null,
      "outputs": [
        {
          "output_type": "stream",
          "text": [
            "['1-5', '0', '6-10', '15+', '11-15']\n"
          ],
          "name": "stdout"
        }
      ]
    },
    {
      "cell_type": "code",
      "metadata": {
        "id": "hlW-SsAmHr2v",
        "colab": {
          "base_uri": "https://localhost:8080/"
        },
        "outputId": "d9a751b9-92a9-40d0-ef3c-fbb780525f47"
      },
      "source": [
        "p_data = list(train['Order_food_from_online_month'].unique())\n",
        "print(p_data)\n",
        "for i,j in enumerate(p_data):\n",
        "  train['Order_food_from_online_month'] = train['Order_food_from_online_month'].replace(j,i)"
      ],
      "execution_count": null,
      "outputs": [
        {
          "output_type": "stream",
          "text": [
            "['1-5', '0', '6-10', '15+', '11-15']\n"
          ],
          "name": "stdout"
        }
      ]
    },
    {
      "cell_type": "code",
      "metadata": {
        "id": "MjqpzLPZH3EY",
        "colab": {
          "base_uri": "https://localhost:8080/"
        },
        "outputId": "7c643ae5-7a67-4213-a833-02606f8da16d"
      },
      "source": [
        "p_data = list(train['Preferable_price_BDT'].unique())\n",
        "print(p_data)\n",
        "for i,j in enumerate(p_data):\n",
        "  train['Preferable_price_BDT'] = train['Preferable_price_BDT'].replace(j,i)"
      ],
      "execution_count": null,
      "outputs": [
        {
          "output_type": "stream",
          "text": [
            "['101-200', '1-50', '51-100', '201-400', '501+', '401-500']\n"
          ],
          "name": "stdout"
        }
      ]
    },
    {
      "cell_type": "code",
      "metadata": {
        "id": "8yM3FMvRLRI1",
        "colab": {
          "base_uri": "https://localhost:8080/"
        },
        "outputId": "7639c05b-74ed-4730-9ecd-219854c05dbb"
      },
      "source": [
        "p_data = list(train['New_recipe'].unique())\n",
        "print(p_data)\n",
        "for i,j in enumerate(p_data):\n",
        "  train['New_recipe'] = train['New_recipe'].replace(j,i)"
      ],
      "execution_count": null,
      "outputs": [
        {
          "output_type": "stream",
          "text": [
            "['Yes', 'No']\n"
          ],
          "name": "stdout"
        }
      ]
    },
    {
      "cell_type": "code",
      "metadata": {
        "id": "0ErcQBWDLeH8",
        "colab": {
          "base_uri": "https://localhost:8080/"
        },
        "outputId": "2b327b94-6c6b-4af2-e94a-a9f4a50a064b"
      },
      "source": [
        "p_data = list(train['Cost_rest_month'].unique())\n",
        "print(p_data)\n",
        "for i,j in enumerate(p_data):\n",
        "  train['Cost_rest_month'] = train['Cost_rest_month'].replace(j,i)"
      ],
      "execution_count": null,
      "outputs": [
        {
          "output_type": "stream",
          "text": [
            "['501-1000', '1-500', '0', '1000+']\n"
          ],
          "name": "stdout"
        }
      ]
    },
    {
      "cell_type": "code",
      "metadata": {
        "id": "O8JlGqpFLiHY",
        "colab": {
          "base_uri": "https://localhost:8080/"
        },
        "outputId": "a86030f2-a285-4d59-e57f-44444ee459bc"
      },
      "source": [
        "p_data = list(train['Food_type'].unique())\n",
        "print(p_data)\n",
        "for i,j in enumerate(p_data):\n",
        "  train['Food_type'] = train['Food_type'].replace(j,i)"
      ],
      "execution_count": null,
      "outputs": [
        {
          "output_type": "stream",
          "text": [
            "['Traditional bengali food', 'Fast food', 'Others']\n"
          ],
          "name": "stdout"
        }
      ]
    },
    {
      "cell_type": "code",
      "metadata": {
        "id": "iKscH7R-KErL",
        "colab": {
          "base_uri": "https://localhost:8080/",
          "height": 224
        },
        "outputId": "3eb7680c-4cfd-4099-f283-147298e39423"
      },
      "source": [
        "train.head()"
      ],
      "execution_count": null,
      "outputs": [
        {
          "output_type": "execute_result",
          "data": {
            "text/html": [
              "<div>\n",
              "<style scoped>\n",
              "    .dataframe tbody tr th:only-of-type {\n",
              "        vertical-align: middle;\n",
              "    }\n",
              "\n",
              "    .dataframe tbody tr th {\n",
              "        vertical-align: top;\n",
              "    }\n",
              "\n",
              "    .dataframe thead th {\n",
              "        text-align: right;\n",
              "    }\n",
              "</style>\n",
              "<table border=\"1\" class=\"dataframe\">\n",
              "  <thead>\n",
              "    <tr style=\"text-align: right;\">\n",
              "      <th></th>\n",
              "      <th>Age</th>\n",
              "      <th>Gender</th>\n",
              "      <th>Marital_status</th>\n",
              "      <th>Division</th>\n",
              "      <th>Home_town</th>\n",
              "      <th>Living_Town</th>\n",
              "      <th>Is_urban</th>\n",
              "      <th>Work</th>\n",
              "      <th>Income</th>\n",
              "      <th>take_food_from_restuarent_month</th>\n",
              "      <th>Order_food_from_online_month</th>\n",
              "      <th>Spicy</th>\n",
              "      <th>Sweet</th>\n",
              "      <th>Preferable_price_BDT</th>\n",
              "      <th>New_recipe</th>\n",
              "      <th>Street_food</th>\n",
              "      <th>Restuarent_food</th>\n",
              "      <th>Cost_rest_month</th>\n",
              "      <th>Food_type</th>\n",
              "    </tr>\n",
              "  </thead>\n",
              "  <tbody>\n",
              "    <tr>\n",
              "      <th>0</th>\n",
              "      <td>0</td>\n",
              "      <td>0</td>\n",
              "      <td>0</td>\n",
              "      <td>0</td>\n",
              "      <td>0</td>\n",
              "      <td>0</td>\n",
              "      <td>0</td>\n",
              "      <td>0</td>\n",
              "      <td>0</td>\n",
              "      <td>0</td>\n",
              "      <td>0</td>\n",
              "      <td>4</td>\n",
              "      <td>3</td>\n",
              "      <td>0</td>\n",
              "      <td>0</td>\n",
              "      <td>4</td>\n",
              "      <td>3</td>\n",
              "      <td>0</td>\n",
              "      <td>0</td>\n",
              "    </tr>\n",
              "    <tr>\n",
              "      <th>1</th>\n",
              "      <td>0</td>\n",
              "      <td>0</td>\n",
              "      <td>0</td>\n",
              "      <td>1</td>\n",
              "      <td>1</td>\n",
              "      <td>0</td>\n",
              "      <td>1</td>\n",
              "      <td>1</td>\n",
              "      <td>1</td>\n",
              "      <td>1</td>\n",
              "      <td>1</td>\n",
              "      <td>4</td>\n",
              "      <td>5</td>\n",
              "      <td>0</td>\n",
              "      <td>0</td>\n",
              "      <td>5</td>\n",
              "      <td>4</td>\n",
              "      <td>1</td>\n",
              "      <td>0</td>\n",
              "    </tr>\n",
              "    <tr>\n",
              "      <th>2</th>\n",
              "      <td>0</td>\n",
              "      <td>0</td>\n",
              "      <td>0</td>\n",
              "      <td>1</td>\n",
              "      <td>2</td>\n",
              "      <td>0</td>\n",
              "      <td>0</td>\n",
              "      <td>1</td>\n",
              "      <td>2</td>\n",
              "      <td>0</td>\n",
              "      <td>1</td>\n",
              "      <td>5</td>\n",
              "      <td>5</td>\n",
              "      <td>1</td>\n",
              "      <td>0</td>\n",
              "      <td>5</td>\n",
              "      <td>5</td>\n",
              "      <td>1</td>\n",
              "      <td>1</td>\n",
              "    </tr>\n",
              "    <tr>\n",
              "      <th>3</th>\n",
              "      <td>0</td>\n",
              "      <td>0</td>\n",
              "      <td>1</td>\n",
              "      <td>2</td>\n",
              "      <td>3</td>\n",
              "      <td>0</td>\n",
              "      <td>0</td>\n",
              "      <td>1</td>\n",
              "      <td>2</td>\n",
              "      <td>0</td>\n",
              "      <td>1</td>\n",
              "      <td>2</td>\n",
              "      <td>4</td>\n",
              "      <td>2</td>\n",
              "      <td>0</td>\n",
              "      <td>4</td>\n",
              "      <td>3</td>\n",
              "      <td>1</td>\n",
              "      <td>0</td>\n",
              "    </tr>\n",
              "    <tr>\n",
              "      <th>4</th>\n",
              "      <td>0</td>\n",
              "      <td>0</td>\n",
              "      <td>1</td>\n",
              "      <td>0</td>\n",
              "      <td>4</td>\n",
              "      <td>0</td>\n",
              "      <td>0</td>\n",
              "      <td>1</td>\n",
              "      <td>1</td>\n",
              "      <td>2</td>\n",
              "      <td>2</td>\n",
              "      <td>5</td>\n",
              "      <td>2</td>\n",
              "      <td>2</td>\n",
              "      <td>1</td>\n",
              "      <td>4</td>\n",
              "      <td>2</td>\n",
              "      <td>1</td>\n",
              "      <td>1</td>\n",
              "    </tr>\n",
              "  </tbody>\n",
              "</table>\n",
              "</div>"
            ],
            "text/plain": [
              "   Age  Gender  Marital_status  ...  Restuarent_food  Cost_rest_month  Food_type\n",
              "0    0       0               0  ...                3                0          0\n",
              "1    0       0               0  ...                4                1          0\n",
              "2    0       0               0  ...                5                1          1\n",
              "3    0       0               1  ...                3                1          0\n",
              "4    0       0               1  ...                2                1          1\n",
              "\n",
              "[5 rows x 19 columns]"
            ]
          },
          "metadata": {
            "tags": []
          },
          "execution_count": 23
        }
      ]
    },
    {
      "cell_type": "code",
      "metadata": {
        "id": "mwIodYnEOQ57",
        "colab": {
          "base_uri": "https://localhost:8080/"
        },
        "outputId": "c62d3d41-eb8e-4b94-9429-e96ff20db8ee"
      },
      "source": [
        "train.groupby('Living_Town').size()"
      ],
      "execution_count": null,
      "outputs": [
        {
          "output_type": "execute_result",
          "data": {
            "text/plain": [
              "Living_Town\n",
              "0     182\n",
              "1      26\n",
              "2      42\n",
              "3       4\n",
              "4       8\n",
              "5       2\n",
              "6      26\n",
              "7       4\n",
              "8      24\n",
              "9       2\n",
              "10      4\n",
              "11      4\n",
              "12      2\n",
              "13     22\n",
              "14      2\n",
              "15      6\n",
              "16      2\n",
              "17      6\n",
              "18      4\n",
              "19      2\n",
              "20      4\n",
              "21      4\n",
              "22      8\n",
              "23      6\n",
              "24      6\n",
              "25      2\n",
              "26      2\n",
              "27      2\n",
              "28      2\n",
              "29      2\n",
              "30      4\n",
              "31      2\n",
              "32      2\n",
              "33      2\n",
              "dtype: int64"
            ]
          },
          "metadata": {
            "tags": []
          },
          "execution_count": 24
        }
      ]
    },
    {
      "cell_type": "code",
      "metadata": {
        "id": "8cfs4OB5GkxK"
      },
      "source": [
        "X = train.drop(['Food_type'], axis=1)\n",
        "Y = train['Food_type']"
      ],
      "execution_count": null,
      "outputs": []
    },
    {
      "cell_type": "code",
      "metadata": {
        "id": "4gfl2ldCMoKw"
      },
      "source": [
        "from sklearn.model_selection import train_test_split\n",
        "x_train, x_test, y_train, y_test = train_test_split(X, Y, test_size=0.15, random_state=0)"
      ],
      "execution_count": null,
      "outputs": []
    },
    {
      "cell_type": "code",
      "metadata": {
        "id": "uyZWcCCGNOvC",
        "colab": {
          "base_uri": "https://localhost:8080/",
          "height": 224
        },
        "outputId": "50c009e8-45e1-40bd-e58f-1171ef5669ac"
      },
      "source": [
        "x_train.head()"
      ],
      "execution_count": null,
      "outputs": [
        {
          "output_type": "execute_result",
          "data": {
            "text/html": [
              "<div>\n",
              "<style scoped>\n",
              "    .dataframe tbody tr th:only-of-type {\n",
              "        vertical-align: middle;\n",
              "    }\n",
              "\n",
              "    .dataframe tbody tr th {\n",
              "        vertical-align: top;\n",
              "    }\n",
              "\n",
              "    .dataframe thead th {\n",
              "        text-align: right;\n",
              "    }\n",
              "</style>\n",
              "<table border=\"1\" class=\"dataframe\">\n",
              "  <thead>\n",
              "    <tr style=\"text-align: right;\">\n",
              "      <th></th>\n",
              "      <th>Age</th>\n",
              "      <th>Gender</th>\n",
              "      <th>Marital_status</th>\n",
              "      <th>Division</th>\n",
              "      <th>Home_town</th>\n",
              "      <th>Living_Town</th>\n",
              "      <th>Is_urban</th>\n",
              "      <th>Work</th>\n",
              "      <th>Income</th>\n",
              "      <th>take_food_from_restuarent_month</th>\n",
              "      <th>Order_food_from_online_month</th>\n",
              "      <th>Spicy</th>\n",
              "      <th>Sweet</th>\n",
              "      <th>Preferable_price_BDT</th>\n",
              "      <th>New_recipe</th>\n",
              "      <th>Street_food</th>\n",
              "      <th>Restuarent_food</th>\n",
              "      <th>Cost_rest_month</th>\n",
              "    </tr>\n",
              "  </thead>\n",
              "  <tbody>\n",
              "    <tr>\n",
              "      <th>188</th>\n",
              "      <td>1</td>\n",
              "      <td>0</td>\n",
              "      <td>1</td>\n",
              "      <td>5</td>\n",
              "      <td>17</td>\n",
              "      <td>13</td>\n",
              "      <td>1</td>\n",
              "      <td>2</td>\n",
              "      <td>1</td>\n",
              "      <td>1</td>\n",
              "      <td>1</td>\n",
              "      <td>3</td>\n",
              "      <td>2</td>\n",
              "      <td>1</td>\n",
              "      <td>1</td>\n",
              "      <td>1</td>\n",
              "      <td>1</td>\n",
              "      <td>1</td>\n",
              "    </tr>\n",
              "    <tr>\n",
              "      <th>107</th>\n",
              "      <td>0</td>\n",
              "      <td>0</td>\n",
              "      <td>0</td>\n",
              "      <td>6</td>\n",
              "      <td>35</td>\n",
              "      <td>0</td>\n",
              "      <td>0</td>\n",
              "      <td>0</td>\n",
              "      <td>1</td>\n",
              "      <td>2</td>\n",
              "      <td>0</td>\n",
              "      <td>4</td>\n",
              "      <td>3</td>\n",
              "      <td>2</td>\n",
              "      <td>0</td>\n",
              "      <td>4</td>\n",
              "      <td>4</td>\n",
              "      <td>0</td>\n",
              "    </tr>\n",
              "    <tr>\n",
              "      <th>171</th>\n",
              "      <td>0</td>\n",
              "      <td>1</td>\n",
              "      <td>0</td>\n",
              "      <td>0</td>\n",
              "      <td>23</td>\n",
              "      <td>0</td>\n",
              "      <td>1</td>\n",
              "      <td>1</td>\n",
              "      <td>2</td>\n",
              "      <td>1</td>\n",
              "      <td>1</td>\n",
              "      <td>2</td>\n",
              "      <td>5</td>\n",
              "      <td>3</td>\n",
              "      <td>0</td>\n",
              "      <td>3</td>\n",
              "      <td>3</td>\n",
              "      <td>2</td>\n",
              "    </tr>\n",
              "    <tr>\n",
              "      <th>157</th>\n",
              "      <td>0</td>\n",
              "      <td>0</td>\n",
              "      <td>0</td>\n",
              "      <td>7</td>\n",
              "      <td>41</td>\n",
              "      <td>27</td>\n",
              "      <td>1</td>\n",
              "      <td>1</td>\n",
              "      <td>2</td>\n",
              "      <td>1</td>\n",
              "      <td>1</td>\n",
              "      <td>5</td>\n",
              "      <td>5</td>\n",
              "      <td>2</td>\n",
              "      <td>1</td>\n",
              "      <td>4</td>\n",
              "      <td>3</td>\n",
              "      <td>2</td>\n",
              "    </tr>\n",
              "    <tr>\n",
              "      <th>392</th>\n",
              "      <td>0</td>\n",
              "      <td>0</td>\n",
              "      <td>0</td>\n",
              "      <td>0</td>\n",
              "      <td>5</td>\n",
              "      <td>0</td>\n",
              "      <td>1</td>\n",
              "      <td>1</td>\n",
              "      <td>1</td>\n",
              "      <td>0</td>\n",
              "      <td>0</td>\n",
              "      <td>4</td>\n",
              "      <td>2</td>\n",
              "      <td>0</td>\n",
              "      <td>0</td>\n",
              "      <td>5</td>\n",
              "      <td>5</td>\n",
              "      <td>1</td>\n",
              "    </tr>\n",
              "  </tbody>\n",
              "</table>\n",
              "</div>"
            ],
            "text/plain": [
              "     Age  Gender  Marital_status  ...  Street_food  Restuarent_food  Cost_rest_month\n",
              "188    1       0               1  ...            1                1                1\n",
              "107    0       0               0  ...            4                4                0\n",
              "171    0       1               0  ...            3                3                2\n",
              "157    0       0               0  ...            4                3                2\n",
              "392    0       0               0  ...            5                5                1\n",
              "\n",
              "[5 rows x 18 columns]"
            ]
          },
          "metadata": {
            "tags": []
          },
          "execution_count": 27
        }
      ]
    },
    {
      "cell_type": "markdown",
      "metadata": {
        "id": "Mk-4y6cohOm4"
      },
      "source": [
        "**K Neighbors Classifier**"
      ]
    },
    {
      "cell_type": "code",
      "metadata": {
        "id": "N_QB3zGuHHRQ",
        "colab": {
          "base_uri": "https://localhost:8080/"
        },
        "outputId": "29465ab7-077f-4963-d12d-0c553bf6ed48"
      },
      "source": [
        "from sklearn.neighbors import KNeighborsClassifier\n",
        "from sklearn.metrics import classification_report, confusion_matrix, \\\n",
        "f1_score, jaccard_similarity_score\n",
        "\n",
        "for k in range(1,11):\n",
        "  knn_model = KNeighborsClassifier(n_neighbors=k)\n",
        "  knn_model.fit(x_train, y_train)\n",
        "\n",
        "  knn_result = knn_model.predict(x_test)\n",
        "\n",
        "  print(\"Confusion Matrix -->\")\n",
        "  print(confusion_matrix(y_test, knn_result))\n",
        "\n",
        "  print(\"Classification Report -->\")\n",
        "  print(classification_report(y_test, knn_result))\n",
        "  print(\"Accuricy : \",jaccard_similarity_score(y_test, knn_result))\n",
        "  print(\"Train set Accuricy\", jaccard_similarity_score(y_train, knn_model.predict(x_train)))\n"
      ],
      "execution_count": null,
      "outputs": [
        {
          "output_type": "stream",
          "text": [
            "Confusion Matrix -->\n",
            "[[28  0  0]\n",
            " [ 2 31  0]\n",
            " [ 0  0  3]]\n",
            "Classification Report -->\n",
            "              precision    recall  f1-score   support\n",
            "\n",
            "           0       0.93      1.00      0.97        28\n",
            "           1       1.00      0.94      0.97        33\n",
            "           2       1.00      1.00      1.00         3\n",
            "\n",
            "    accuracy                           0.97        64\n",
            "   macro avg       0.98      0.98      0.98        64\n",
            "weighted avg       0.97      0.97      0.97        64\n",
            "\n",
            "Accuricy :  0.96875\n",
            "Train set Accuricy 1.0\n",
            "Confusion Matrix -->\n",
            "[[28  0  0]\n",
            " [14 19  0]\n",
            " [ 1  2  0]]\n",
            "Classification Report -->\n",
            "              precision    recall  f1-score   support\n",
            "\n",
            "           0       0.65      1.00      0.79        28\n",
            "           1       0.90      0.58      0.70        33\n",
            "           2       0.00      0.00      0.00         3\n",
            "\n",
            "    accuracy                           0.73        64\n",
            "   macro avg       0.52      0.53      0.50        64\n",
            "weighted avg       0.75      0.73      0.71        64\n",
            "\n",
            "Accuricy :  0.734375\n",
            "Train set Accuricy 0.9581005586592178\n",
            "Confusion Matrix -->\n",
            "[[16 11  1]\n",
            " [11 21  1]\n",
            " [ 1  1  1]]\n",
            "Classification Report -->\n",
            "              precision    recall  f1-score   support\n",
            "\n",
            "           0       0.57      0.57      0.57        28\n",
            "           1       0.64      0.64      0.64        33\n",
            "           2       0.33      0.33      0.33         3\n",
            "\n",
            "    accuracy                           0.59        64\n",
            "   macro avg       0.51      0.51      0.51        64\n",
            "weighted avg       0.59      0.59      0.59        64\n",
            "\n",
            "Accuricy :  0.59375\n",
            "Train set Accuricy 0.9329608938547486\n",
            "Confusion Matrix -->\n",
            "[[22  5  1]\n",
            " [17 15  1]\n",
            " [ 1  1  1]]\n",
            "Classification Report -->\n",
            "              precision    recall  f1-score   support\n",
            "\n",
            "           0       0.55      0.79      0.65        28\n",
            "           1       0.71      0.45      0.56        33\n",
            "           2       0.33      0.33      0.33         3\n",
            "\n",
            "    accuracy                           0.59        64\n",
            "   macro avg       0.53      0.52      0.51        64\n",
            "weighted avg       0.62      0.59      0.59        64\n",
            "\n",
            "Accuricy :  0.59375\n",
            "Train set Accuricy 0.7094972067039106\n",
            "Confusion Matrix -->\n",
            "[[23  5  0]\n",
            " [10 23  0]\n",
            " [ 2  0  1]]\n",
            "Classification Report -->\n",
            "              precision    recall  f1-score   support\n",
            "\n",
            "           0       0.66      0.82      0.73        28\n",
            "           1       0.82      0.70      0.75        33\n",
            "           2       1.00      0.33      0.50         3\n",
            "\n",
            "    accuracy                           0.73        64\n",
            "   macro avg       0.83      0.62      0.66        64\n",
            "weighted avg       0.76      0.73      0.73        64\n",
            "\n",
            "Accuricy :  0.734375\n",
            "Train set Accuricy 0.7067039106145251\n",
            "Confusion Matrix -->\n",
            "[[24  4  0]\n",
            " [15 18  0]\n",
            " [ 2  0  1]]\n",
            "Classification Report -->\n",
            "              precision    recall  f1-score   support\n",
            "\n",
            "           0       0.59      0.86      0.70        28\n",
            "           1       0.82      0.55      0.65        33\n",
            "           2       1.00      0.33      0.50         3\n",
            "\n",
            "    accuracy                           0.67        64\n",
            "   macro avg       0.80      0.58      0.62        64\n",
            "weighted avg       0.72      0.67      0.67        64\n",
            "\n",
            "Accuricy :  0.671875\n",
            "Train set Accuricy 0.6899441340782123\n",
            "Confusion Matrix -->\n",
            "[[18 10  0]\n",
            " [14 19  0]\n",
            " [ 1  1  1]]\n",
            "Classification Report -->\n",
            "              precision    recall  f1-score   support\n",
            "\n",
            "           0       0.55      0.64      0.59        28\n",
            "           1       0.63      0.58      0.60        33\n",
            "           2       1.00      0.33      0.50         3\n",
            "\n",
            "    accuracy                           0.59        64\n",
            "   macro avg       0.73      0.52      0.56        64\n",
            "weighted avg       0.61      0.59      0.59        64\n",
            "\n",
            "Accuricy :  0.59375\n"
          ],
          "name": "stdout"
        },
        {
          "output_type": "stream",
          "text": [
            "/usr/local/lib/python3.7/dist-packages/sklearn/metrics/_classification.py:664: FutureWarning: jaccard_similarity_score has been deprecated and replaced with jaccard_score. It will be removed in version 0.23. This implementation has surprising behavior for binary and multiclass classification tasks.\n",
            "  FutureWarning)\n",
            "/usr/local/lib/python3.7/dist-packages/sklearn/metrics/_classification.py:664: FutureWarning: jaccard_similarity_score has been deprecated and replaced with jaccard_score. It will be removed in version 0.23. This implementation has surprising behavior for binary and multiclass classification tasks.\n",
            "  FutureWarning)\n",
            "/usr/local/lib/python3.7/dist-packages/sklearn/metrics/_classification.py:1272: UndefinedMetricWarning: Precision and F-score are ill-defined and being set to 0.0 in labels with no predicted samples. Use `zero_division` parameter to control this behavior.\n",
            "  _warn_prf(average, modifier, msg_start, len(result))\n",
            "/usr/local/lib/python3.7/dist-packages/sklearn/metrics/_classification.py:664: FutureWarning: jaccard_similarity_score has been deprecated and replaced with jaccard_score. It will be removed in version 0.23. This implementation has surprising behavior for binary and multiclass classification tasks.\n",
            "  FutureWarning)\n",
            "/usr/local/lib/python3.7/dist-packages/sklearn/metrics/_classification.py:664: FutureWarning: jaccard_similarity_score has been deprecated and replaced with jaccard_score. It will be removed in version 0.23. This implementation has surprising behavior for binary and multiclass classification tasks.\n",
            "  FutureWarning)\n",
            "/usr/local/lib/python3.7/dist-packages/sklearn/metrics/_classification.py:664: FutureWarning: jaccard_similarity_score has been deprecated and replaced with jaccard_score. It will be removed in version 0.23. This implementation has surprising behavior for binary and multiclass classification tasks.\n",
            "  FutureWarning)\n",
            "/usr/local/lib/python3.7/dist-packages/sklearn/metrics/_classification.py:664: FutureWarning: jaccard_similarity_score has been deprecated and replaced with jaccard_score. It will be removed in version 0.23. This implementation has surprising behavior for binary and multiclass classification tasks.\n",
            "  FutureWarning)\n",
            "/usr/local/lib/python3.7/dist-packages/sklearn/metrics/_classification.py:664: FutureWarning: jaccard_similarity_score has been deprecated and replaced with jaccard_score. It will be removed in version 0.23. This implementation has surprising behavior for binary and multiclass classification tasks.\n",
            "  FutureWarning)\n",
            "/usr/local/lib/python3.7/dist-packages/sklearn/metrics/_classification.py:664: FutureWarning: jaccard_similarity_score has been deprecated and replaced with jaccard_score. It will be removed in version 0.23. This implementation has surprising behavior for binary and multiclass classification tasks.\n",
            "  FutureWarning)\n",
            "/usr/local/lib/python3.7/dist-packages/sklearn/metrics/_classification.py:664: FutureWarning: jaccard_similarity_score has been deprecated and replaced with jaccard_score. It will be removed in version 0.23. This implementation has surprising behavior for binary and multiclass classification tasks.\n",
            "  FutureWarning)\n",
            "/usr/local/lib/python3.7/dist-packages/sklearn/metrics/_classification.py:664: FutureWarning: jaccard_similarity_score has been deprecated and replaced with jaccard_score. It will be removed in version 0.23. This implementation has surprising behavior for binary and multiclass classification tasks.\n",
            "  FutureWarning)\n",
            "/usr/local/lib/python3.7/dist-packages/sklearn/metrics/_classification.py:664: FutureWarning: jaccard_similarity_score has been deprecated and replaced with jaccard_score. It will be removed in version 0.23. This implementation has surprising behavior for binary and multiclass classification tasks.\n",
            "  FutureWarning)\n",
            "/usr/local/lib/python3.7/dist-packages/sklearn/metrics/_classification.py:664: FutureWarning: jaccard_similarity_score has been deprecated and replaced with jaccard_score. It will be removed in version 0.23. This implementation has surprising behavior for binary and multiclass classification tasks.\n",
            "  FutureWarning)\n",
            "/usr/local/lib/python3.7/dist-packages/sklearn/metrics/_classification.py:664: FutureWarning: jaccard_similarity_score has been deprecated and replaced with jaccard_score. It will be removed in version 0.23. This implementation has surprising behavior for binary and multiclass classification tasks.\n",
            "  FutureWarning)\n"
          ],
          "name": "stderr"
        },
        {
          "output_type": "stream",
          "text": [
            "Train set Accuricy 0.6703910614525139\n",
            "Confusion Matrix -->\n",
            "[[21  7  0]\n",
            " [15 18  0]\n",
            " [ 1  1  1]]\n",
            "Classification Report -->\n",
            "              precision    recall  f1-score   support\n",
            "\n",
            "           0       0.57      0.75      0.65        28\n",
            "           1       0.69      0.55      0.61        33\n",
            "           2       1.00      0.33      0.50         3\n",
            "\n",
            "    accuracy                           0.62        64\n",
            "   macro avg       0.75      0.54      0.59        64\n",
            "weighted avg       0.65      0.62      0.62        64\n",
            "\n",
            "Accuricy :  0.625\n",
            "Train set Accuricy 0.664804469273743\n",
            "Confusion Matrix -->\n",
            "[[18 10  0]\n",
            " [14 19  0]\n",
            " [ 3  0  0]]\n",
            "Classification Report -->\n",
            "              precision    recall  f1-score   support\n",
            "\n",
            "           0       0.51      0.64      0.57        28\n",
            "           1       0.66      0.58      0.61        33\n",
            "           2       0.00      0.00      0.00         3\n",
            "\n",
            "    accuracy                           0.58        64\n",
            "   macro avg       0.39      0.41      0.39        64\n",
            "weighted avg       0.56      0.58      0.57        64\n",
            "\n",
            "Accuricy :  0.578125\n",
            "Train set Accuricy 0.6620111731843575\n",
            "Confusion Matrix -->\n",
            "[[20  8  0]\n",
            " [16 17  0]\n",
            " [ 2  1  0]]\n",
            "Classification Report -->\n",
            "              precision    recall  f1-score   support\n",
            "\n",
            "           0       0.53      0.71      0.61        28\n",
            "           1       0.65      0.52      0.58        33\n",
            "           2       0.00      0.00      0.00         3\n",
            "\n",
            "    accuracy                           0.58        64\n",
            "   macro avg       0.39      0.41      0.39        64\n",
            "weighted avg       0.57      0.58      0.56        64\n",
            "\n",
            "Accuricy :  0.578125\n",
            "Train set Accuricy 0.6564245810055865\n"
          ],
          "name": "stdout"
        },
        {
          "output_type": "stream",
          "text": [
            "/usr/local/lib/python3.7/dist-packages/sklearn/metrics/_classification.py:664: FutureWarning: jaccard_similarity_score has been deprecated and replaced with jaccard_score. It will be removed in version 0.23. This implementation has surprising behavior for binary and multiclass classification tasks.\n",
            "  FutureWarning)\n",
            "/usr/local/lib/python3.7/dist-packages/sklearn/metrics/_classification.py:664: FutureWarning: jaccard_similarity_score has been deprecated and replaced with jaccard_score. It will be removed in version 0.23. This implementation has surprising behavior for binary and multiclass classification tasks.\n",
            "  FutureWarning)\n",
            "/usr/local/lib/python3.7/dist-packages/sklearn/metrics/_classification.py:664: FutureWarning: jaccard_similarity_score has been deprecated and replaced with jaccard_score. It will be removed in version 0.23. This implementation has surprising behavior for binary and multiclass classification tasks.\n",
            "  FutureWarning)\n",
            "/usr/local/lib/python3.7/dist-packages/sklearn/metrics/_classification.py:1272: UndefinedMetricWarning: Precision and F-score are ill-defined and being set to 0.0 in labels with no predicted samples. Use `zero_division` parameter to control this behavior.\n",
            "  _warn_prf(average, modifier, msg_start, len(result))\n",
            "/usr/local/lib/python3.7/dist-packages/sklearn/metrics/_classification.py:664: FutureWarning: jaccard_similarity_score has been deprecated and replaced with jaccard_score. It will be removed in version 0.23. This implementation has surprising behavior for binary and multiclass classification tasks.\n",
            "  FutureWarning)\n",
            "/usr/local/lib/python3.7/dist-packages/sklearn/metrics/_classification.py:664: FutureWarning: jaccard_similarity_score has been deprecated and replaced with jaccard_score. It will be removed in version 0.23. This implementation has surprising behavior for binary and multiclass classification tasks.\n",
            "  FutureWarning)\n",
            "/usr/local/lib/python3.7/dist-packages/sklearn/metrics/_classification.py:1272: UndefinedMetricWarning: Precision and F-score are ill-defined and being set to 0.0 in labels with no predicted samples. Use `zero_division` parameter to control this behavior.\n",
            "  _warn_prf(average, modifier, msg_start, len(result))\n",
            "/usr/local/lib/python3.7/dist-packages/sklearn/metrics/_classification.py:664: FutureWarning: jaccard_similarity_score has been deprecated and replaced with jaccard_score. It will be removed in version 0.23. This implementation has surprising behavior for binary and multiclass classification tasks.\n",
            "  FutureWarning)\n",
            "/usr/local/lib/python3.7/dist-packages/sklearn/metrics/_classification.py:664: FutureWarning: jaccard_similarity_score has been deprecated and replaced with jaccard_score. It will be removed in version 0.23. This implementation has surprising behavior for binary and multiclass classification tasks.\n",
            "  FutureWarning)\n"
          ],
          "name": "stderr"
        }
      ]
    },
    {
      "cell_type": "code",
      "metadata": {
        "id": "l7RgSa_sZY95",
        "colab": {
          "base_uri": "https://localhost:8080/"
        },
        "outputId": "28d44b92-92f0-4701-b12b-c6dd1000c6c1"
      },
      "source": [
        "from sklearn.neighbors import KNeighborsClassifier\n",
        "from sklearn.metrics import classification_report, confusion_matrix, \\\n",
        "f1_score, jaccard_similarity_score\n",
        "knn_model = KNeighborsClassifier(n_neighbors=1)\n",
        "knn_model.fit(x_train, y_train)\n",
        "knn_result = knn_model.predict(x_test)\n",
        "print(\"Confusion Matrix -->\")\n",
        "print(confusion_matrix(y_test, knn_result))\n",
        "\n",
        "print(\"Classification Report -->\")\n",
        "print(classification_report(y_test, knn_result))\n",
        "print(\"Accuricy : \",jaccard_similarity_score(y_test, knn_result))\n",
        "print(\"Train set Accuricy\", jaccard_similarity_score(y_train, knn_model.predict(x_train)))"
      ],
      "execution_count": null,
      "outputs": [
        {
          "output_type": "stream",
          "text": [
            "Confusion Matrix -->\n",
            "[[28  0  0]\n",
            " [ 2 31  0]\n",
            " [ 0  0  3]]\n",
            "Classification Report -->\n",
            "              precision    recall  f1-score   support\n",
            "\n",
            "           0       0.93      1.00      0.97        28\n",
            "           1       1.00      0.94      0.97        33\n",
            "           2       1.00      1.00      1.00         3\n",
            "\n",
            "    accuracy                           0.97        64\n",
            "   macro avg       0.98      0.98      0.98        64\n",
            "weighted avg       0.97      0.97      0.97        64\n",
            "\n",
            "Accuricy :  0.96875\n",
            "Train set Accuricy 1.0\n"
          ],
          "name": "stdout"
        },
        {
          "output_type": "stream",
          "text": [
            "/usr/local/lib/python3.7/dist-packages/sklearn/metrics/_classification.py:664: FutureWarning: jaccard_similarity_score has been deprecated and replaced with jaccard_score. It will be removed in version 0.23. This implementation has surprising behavior for binary and multiclass classification tasks.\n",
            "  FutureWarning)\n",
            "/usr/local/lib/python3.7/dist-packages/sklearn/metrics/_classification.py:664: FutureWarning: jaccard_similarity_score has been deprecated and replaced with jaccard_score. It will be removed in version 0.23. This implementation has surprising behavior for binary and multiclass classification tasks.\n",
            "  FutureWarning)\n"
          ],
          "name": "stderr"
        }
      ]
    },
    {
      "cell_type": "markdown",
      "metadata": {
        "id": "cyg9FqVIht4A"
      },
      "source": [
        "**Support Vector Machine**"
      ]
    },
    {
      "cell_type": "code",
      "metadata": {
        "id": "eu2byHvYB94D"
      },
      "source": [
        "from sklearn import svm\n",
        "svm_model = svm.SVC()\n",
        "# svm_model.fit(x_train, y_train)\n",
        "# svm_result = svm_model.predict(x_test)\n",
        "# print(\"Confusion Matrix : \", confusion_matrix(y_test, svm_result))\n",
        "# print(classification_report(y_test, svm_result))\n",
        "# print(\"Jaccard index : \", jaccard_similarity_score(y_test, svm_result))"
      ],
      "execution_count": null,
      "outputs": []
    },
    {
      "cell_type": "code",
      "metadata": {
        "id": "Jw1QSULUY7c1"
      },
      "source": [
        "from sklearn.model_selection import GridSearchCV\n",
        "clf = GridSearchCV(svm_model, {\n",
        "    'C': [1,2,3, 10, 20],\n",
        "    'kernel': ['linear', 'poly', 'rbf'],\n",
        "    'gamma': ['scale', 'auto']\n",
        "}, cv=5, return_train_score=False)\n",
        "clf.fit(X, Y)\n",
        "result = clf.cv_results_"
      ],
      "execution_count": null,
      "outputs": []
    },
    {
      "cell_type": "code",
      "metadata": {
        "colab": {
          "base_uri": "https://localhost:8080/",
          "height": 979
        },
        "id": "nJOy8kDlaZ3X",
        "outputId": "c4c91a1a-dbc9-4dc3-d607-3da492cd5388"
      },
      "source": [
        "df = pd.DataFrame(result)\n",
        "df[['params', 'mean_test_score']]"
      ],
      "execution_count": null,
      "outputs": [
        {
          "output_type": "execute_result",
          "data": {
            "text/html": [
              "<div>\n",
              "<style scoped>\n",
              "    .dataframe tbody tr th:only-of-type {\n",
              "        vertical-align: middle;\n",
              "    }\n",
              "\n",
              "    .dataframe tbody tr th {\n",
              "        vertical-align: top;\n",
              "    }\n",
              "\n",
              "    .dataframe thead th {\n",
              "        text-align: right;\n",
              "    }\n",
              "</style>\n",
              "<table border=\"1\" class=\"dataframe\">\n",
              "  <thead>\n",
              "    <tr style=\"text-align: right;\">\n",
              "      <th></th>\n",
              "      <th>params</th>\n",
              "      <th>mean_test_score</th>\n",
              "    </tr>\n",
              "  </thead>\n",
              "  <tbody>\n",
              "    <tr>\n",
              "      <th>0</th>\n",
              "      <td>{'C': 1, 'gamma': 'scale', 'kernel': 'linear'}</td>\n",
              "      <td>0.649244</td>\n",
              "    </tr>\n",
              "    <tr>\n",
              "      <th>1</th>\n",
              "      <td>{'C': 1, 'gamma': 'scale', 'kernel': 'poly'}</td>\n",
              "      <td>0.564146</td>\n",
              "    </tr>\n",
              "    <tr>\n",
              "      <th>2</th>\n",
              "      <td>{'C': 1, 'gamma': 'scale', 'kernel': 'rbf'}</td>\n",
              "      <td>0.620924</td>\n",
              "    </tr>\n",
              "    <tr>\n",
              "      <th>3</th>\n",
              "      <td>{'C': 1, 'gamma': 'auto', 'kernel': 'linear'}</td>\n",
              "      <td>0.649244</td>\n",
              "    </tr>\n",
              "    <tr>\n",
              "      <th>4</th>\n",
              "      <td>{'C': 1, 'gamma': 'auto', 'kernel': 'poly'}</td>\n",
              "      <td>0.985798</td>\n",
              "    </tr>\n",
              "    <tr>\n",
              "      <th>5</th>\n",
              "      <td>{'C': 1, 'gamma': 'auto', 'kernel': 'rbf'}</td>\n",
              "      <td>0.881457</td>\n",
              "    </tr>\n",
              "    <tr>\n",
              "      <th>6</th>\n",
              "      <td>{'C': 2, 'gamma': 'scale', 'kernel': 'linear'}</td>\n",
              "      <td>0.646891</td>\n",
              "    </tr>\n",
              "    <tr>\n",
              "      <th>7</th>\n",
              "      <td>{'C': 2, 'gamma': 'scale', 'kernel': 'poly'}</td>\n",
              "      <td>0.587787</td>\n",
              "    </tr>\n",
              "    <tr>\n",
              "      <th>8</th>\n",
              "      <td>{'C': 2, 'gamma': 'scale', 'kernel': 'rbf'}</td>\n",
              "      <td>0.642353</td>\n",
              "    </tr>\n",
              "    <tr>\n",
              "      <th>9</th>\n",
              "      <td>{'C': 2, 'gamma': 'auto', 'kernel': 'linear'}</td>\n",
              "      <td>0.646891</td>\n",
              "    </tr>\n",
              "    <tr>\n",
              "      <th>10</th>\n",
              "      <td>{'C': 2, 'gamma': 'auto', 'kernel': 'poly'}</td>\n",
              "      <td>1.000000</td>\n",
              "    </tr>\n",
              "    <tr>\n",
              "      <th>11</th>\n",
              "      <td>{'C': 2, 'gamma': 'auto', 'kernel': 'rbf'}</td>\n",
              "      <td>0.931204</td>\n",
              "    </tr>\n",
              "    <tr>\n",
              "      <th>12</th>\n",
              "      <td>{'C': 3, 'gamma': 'scale', 'kernel': 'linear'}</td>\n",
              "      <td>0.642157</td>\n",
              "    </tr>\n",
              "    <tr>\n",
              "      <th>13</th>\n",
              "      <td>{'C': 3, 'gamma': 'scale', 'kernel': 'poly'}</td>\n",
              "      <td>0.616134</td>\n",
              "    </tr>\n",
              "    <tr>\n",
              "      <th>14</th>\n",
              "      <td>{'C': 3, 'gamma': 'scale', 'kernel': 'rbf'}</td>\n",
              "      <td>0.649440</td>\n",
              "    </tr>\n",
              "    <tr>\n",
              "      <th>15</th>\n",
              "      <td>{'C': 3, 'gamma': 'auto', 'kernel': 'linear'}</td>\n",
              "      <td>0.642157</td>\n",
              "    </tr>\n",
              "    <tr>\n",
              "      <th>16</th>\n",
              "      <td>{'C': 3, 'gamma': 'auto', 'kernel': 'poly'}</td>\n",
              "      <td>1.000000</td>\n",
              "    </tr>\n",
              "    <tr>\n",
              "      <th>17</th>\n",
              "      <td>{'C': 3, 'gamma': 'auto', 'kernel': 'rbf'}</td>\n",
              "      <td>0.966751</td>\n",
              "    </tr>\n",
              "    <tr>\n",
              "      <th>18</th>\n",
              "      <td>{'C': 10, 'gamma': 'scale', 'kernel': 'linear'}</td>\n",
              "      <td>0.644538</td>\n",
              "    </tr>\n",
              "    <tr>\n",
              "      <th>19</th>\n",
              "      <td>{'C': 10, 'gamma': 'scale', 'kernel': 'poly'}</td>\n",
              "      <td>0.727507</td>\n",
              "    </tr>\n",
              "    <tr>\n",
              "      <th>20</th>\n",
              "      <td>{'C': 10, 'gamma': 'scale', 'kernel': 'rbf'}</td>\n",
              "      <td>0.706246</td>\n",
              "    </tr>\n",
              "    <tr>\n",
              "      <th>21</th>\n",
              "      <td>{'C': 10, 'gamma': 'auto', 'kernel': 'linear'}</td>\n",
              "      <td>0.644538</td>\n",
              "    </tr>\n",
              "    <tr>\n",
              "      <th>22</th>\n",
              "      <td>{'C': 10, 'gamma': 'auto', 'kernel': 'poly'}</td>\n",
              "      <td>1.000000</td>\n",
              "    </tr>\n",
              "    <tr>\n",
              "      <th>23</th>\n",
              "      <td>{'C': 10, 'gamma': 'auto', 'kernel': 'rbf'}</td>\n",
              "      <td>1.000000</td>\n",
              "    </tr>\n",
              "    <tr>\n",
              "      <th>24</th>\n",
              "      <td>{'C': 20, 'gamma': 'scale', 'kernel': 'linear'}</td>\n",
              "      <td>0.642157</td>\n",
              "    </tr>\n",
              "    <tr>\n",
              "      <th>25</th>\n",
              "      <td>{'C': 20, 'gamma': 'scale', 'kernel': 'poly'}</td>\n",
              "      <td>0.772549</td>\n",
              "    </tr>\n",
              "    <tr>\n",
              "      <th>26</th>\n",
              "      <td>{'C': 20, 'gamma': 'scale', 'kernel': 'rbf'}</td>\n",
              "      <td>0.736863</td>\n",
              "    </tr>\n",
              "    <tr>\n",
              "      <th>27</th>\n",
              "      <td>{'C': 20, 'gamma': 'auto', 'kernel': 'linear'}</td>\n",
              "      <td>0.642157</td>\n",
              "    </tr>\n",
              "    <tr>\n",
              "      <th>28</th>\n",
              "      <td>{'C': 20, 'gamma': 'auto', 'kernel': 'poly'}</td>\n",
              "      <td>1.000000</td>\n",
              "    </tr>\n",
              "    <tr>\n",
              "      <th>29</th>\n",
              "      <td>{'C': 20, 'gamma': 'auto', 'kernel': 'rbf'}</td>\n",
              "      <td>1.000000</td>\n",
              "    </tr>\n",
              "  </tbody>\n",
              "</table>\n",
              "</div>"
            ],
            "text/plain": [
              "                                             params  mean_test_score\n",
              "0    {'C': 1, 'gamma': 'scale', 'kernel': 'linear'}         0.649244\n",
              "1      {'C': 1, 'gamma': 'scale', 'kernel': 'poly'}         0.564146\n",
              "2       {'C': 1, 'gamma': 'scale', 'kernel': 'rbf'}         0.620924\n",
              "3     {'C': 1, 'gamma': 'auto', 'kernel': 'linear'}         0.649244\n",
              "4       {'C': 1, 'gamma': 'auto', 'kernel': 'poly'}         0.985798\n",
              "5        {'C': 1, 'gamma': 'auto', 'kernel': 'rbf'}         0.881457\n",
              "6    {'C': 2, 'gamma': 'scale', 'kernel': 'linear'}         0.646891\n",
              "7      {'C': 2, 'gamma': 'scale', 'kernel': 'poly'}         0.587787\n",
              "8       {'C': 2, 'gamma': 'scale', 'kernel': 'rbf'}         0.642353\n",
              "9     {'C': 2, 'gamma': 'auto', 'kernel': 'linear'}         0.646891\n",
              "10      {'C': 2, 'gamma': 'auto', 'kernel': 'poly'}         1.000000\n",
              "11       {'C': 2, 'gamma': 'auto', 'kernel': 'rbf'}         0.931204\n",
              "12   {'C': 3, 'gamma': 'scale', 'kernel': 'linear'}         0.642157\n",
              "13     {'C': 3, 'gamma': 'scale', 'kernel': 'poly'}         0.616134\n",
              "14      {'C': 3, 'gamma': 'scale', 'kernel': 'rbf'}         0.649440\n",
              "15    {'C': 3, 'gamma': 'auto', 'kernel': 'linear'}         0.642157\n",
              "16      {'C': 3, 'gamma': 'auto', 'kernel': 'poly'}         1.000000\n",
              "17       {'C': 3, 'gamma': 'auto', 'kernel': 'rbf'}         0.966751\n",
              "18  {'C': 10, 'gamma': 'scale', 'kernel': 'linear'}         0.644538\n",
              "19    {'C': 10, 'gamma': 'scale', 'kernel': 'poly'}         0.727507\n",
              "20     {'C': 10, 'gamma': 'scale', 'kernel': 'rbf'}         0.706246\n",
              "21   {'C': 10, 'gamma': 'auto', 'kernel': 'linear'}         0.644538\n",
              "22     {'C': 10, 'gamma': 'auto', 'kernel': 'poly'}         1.000000\n",
              "23      {'C': 10, 'gamma': 'auto', 'kernel': 'rbf'}         1.000000\n",
              "24  {'C': 20, 'gamma': 'scale', 'kernel': 'linear'}         0.642157\n",
              "25    {'C': 20, 'gamma': 'scale', 'kernel': 'poly'}         0.772549\n",
              "26     {'C': 20, 'gamma': 'scale', 'kernel': 'rbf'}         0.736863\n",
              "27   {'C': 20, 'gamma': 'auto', 'kernel': 'linear'}         0.642157\n",
              "28     {'C': 20, 'gamma': 'auto', 'kernel': 'poly'}         1.000000\n",
              "29      {'C': 20, 'gamma': 'auto', 'kernel': 'rbf'}         1.000000"
            ]
          },
          "metadata": {
            "tags": []
          },
          "execution_count": 62
        }
      ]
    },
    {
      "cell_type": "code",
      "metadata": {
        "colab": {
          "base_uri": "https://localhost:8080/"
        },
        "id": "E6tuLNbkh2Lw",
        "outputId": "c251ffc1-c1f3-440f-dbdf-097d3928f9f9"
      },
      "source": [
        "from sklearn import tree\n",
        "dt_model = tree.DecisionTreeClassifier()\n",
        "# dt_model.fit(x_train, y_train)\n",
        "# result = dt_model.predict(x_test)\n",
        "# jaccard_similarity_score(y_test, result)\n",
        "# dt_model.tree_.max_depth"
      ],
      "execution_count": null,
      "outputs": [
        {
          "output_type": "stream",
          "text": [
            "/usr/local/lib/python3.7/dist-packages/sklearn/metrics/_classification.py:664: FutureWarning: jaccard_similarity_score has been deprecated and replaced with jaccard_score. It will be removed in version 0.23. This implementation has surprising behavior for binary and multiclass classification tasks.\n",
            "  FutureWarning)\n"
          ],
          "name": "stderr"
        },
        {
          "output_type": "execute_result",
          "data": {
            "text/plain": [
              "0.9375"
            ]
          },
          "metadata": {
            "tags": []
          },
          "execution_count": 51
        }
      ]
    },
    {
      "cell_type": "code",
      "metadata": {
        "id": "tv_3N5vjqJaK"
      },
      "source": [
        "dt_hyperP_tuning = GridSearchCV(dt_model, {\n",
        "    'criterion': ['gini', 'entropy'],\n",
        "    'max_depth': [10, 11, 12, 13, 14, 15],\n",
        "}, cv=5, return_train_score=False)\n",
        "dt_hyperP_tuning.fit(X, Y)\n",
        "dt_result = dt_hyperP_tuning.cv_results_\n",
        "dt_df = pd.DataFrame(dt_result)"
      ],
      "execution_count": null,
      "outputs": []
    },
    {
      "cell_type": "code",
      "metadata": {
        "colab": {
          "base_uri": "https://localhost:8080/",
          "height": 421
        },
        "id": "dBGHZMTLsjNC",
        "outputId": "923b76bf-623c-40b1-9037-e55702703271"
      },
      "source": [
        "dt_df[['params', 'mean_test_score']]"
      ],
      "execution_count": null,
      "outputs": [
        {
          "output_type": "execute_result",
          "data": {
            "text/html": [
              "<div>\n",
              "<style scoped>\n",
              "    .dataframe tbody tr th:only-of-type {\n",
              "        vertical-align: middle;\n",
              "    }\n",
              "\n",
              "    .dataframe tbody tr th {\n",
              "        vertical-align: top;\n",
              "    }\n",
              "\n",
              "    .dataframe thead th {\n",
              "        text-align: right;\n",
              "    }\n",
              "</style>\n",
              "<table border=\"1\" class=\"dataframe\">\n",
              "  <thead>\n",
              "    <tr style=\"text-align: right;\">\n",
              "      <th></th>\n",
              "      <th>params</th>\n",
              "      <th>mean_test_score</th>\n",
              "    </tr>\n",
              "  </thead>\n",
              "  <tbody>\n",
              "    <tr>\n",
              "      <th>0</th>\n",
              "      <td>{'criterion': 'gini', 'max_depth': 10}</td>\n",
              "      <td>0.940756</td>\n",
              "    </tr>\n",
              "    <tr>\n",
              "      <th>1</th>\n",
              "      <td>{'criterion': 'gini', 'max_depth': 11}</td>\n",
              "      <td>0.957311</td>\n",
              "    </tr>\n",
              "    <tr>\n",
              "      <th>2</th>\n",
              "      <td>{'criterion': 'gini', 'max_depth': 12}</td>\n",
              "      <td>0.969216</td>\n",
              "    </tr>\n",
              "    <tr>\n",
              "      <th>3</th>\n",
              "      <td>{'criterion': 'gini', 'max_depth': 13}</td>\n",
              "      <td>0.985798</td>\n",
              "    </tr>\n",
              "    <tr>\n",
              "      <th>4</th>\n",
              "      <td>{'criterion': 'gini', 'max_depth': 14}</td>\n",
              "      <td>0.995266</td>\n",
              "    </tr>\n",
              "    <tr>\n",
              "      <th>5</th>\n",
              "      <td>{'criterion': 'gini', 'max_depth': 15}</td>\n",
              "      <td>0.995266</td>\n",
              "    </tr>\n",
              "    <tr>\n",
              "      <th>6</th>\n",
              "      <td>{'criterion': 'entropy', 'max_depth': 10}</td>\n",
              "      <td>0.910028</td>\n",
              "    </tr>\n",
              "    <tr>\n",
              "      <th>7</th>\n",
              "      <td>{'criterion': 'entropy', 'max_depth': 11}</td>\n",
              "      <td>0.931401</td>\n",
              "    </tr>\n",
              "    <tr>\n",
              "      <th>8</th>\n",
              "      <td>{'criterion': 'entropy', 'max_depth': 12}</td>\n",
              "      <td>0.964622</td>\n",
              "    </tr>\n",
              "    <tr>\n",
              "      <th>9</th>\n",
              "      <td>{'criterion': 'entropy', 'max_depth': 13}</td>\n",
              "      <td>0.974062</td>\n",
              "    </tr>\n",
              "    <tr>\n",
              "      <th>10</th>\n",
              "      <td>{'criterion': 'entropy', 'max_depth': 14}</td>\n",
              "      <td>0.995294</td>\n",
              "    </tr>\n",
              "    <tr>\n",
              "      <th>11</th>\n",
              "      <td>{'criterion': 'entropy', 'max_depth': 15}</td>\n",
              "      <td>0.997647</td>\n",
              "    </tr>\n",
              "  </tbody>\n",
              "</table>\n",
              "</div>"
            ],
            "text/plain": [
              "                                       params  mean_test_score\n",
              "0      {'criterion': 'gini', 'max_depth': 10}         0.940756\n",
              "1      {'criterion': 'gini', 'max_depth': 11}         0.957311\n",
              "2      {'criterion': 'gini', 'max_depth': 12}         0.969216\n",
              "3      {'criterion': 'gini', 'max_depth': 13}         0.985798\n",
              "4      {'criterion': 'gini', 'max_depth': 14}         0.995266\n",
              "5      {'criterion': 'gini', 'max_depth': 15}         0.995266\n",
              "6   {'criterion': 'entropy', 'max_depth': 10}         0.910028\n",
              "7   {'criterion': 'entropy', 'max_depth': 11}         0.931401\n",
              "8   {'criterion': 'entropy', 'max_depth': 12}         0.964622\n",
              "9   {'criterion': 'entropy', 'max_depth': 13}         0.974062\n",
              "10  {'criterion': 'entropy', 'max_depth': 14}         0.995294\n",
              "11  {'criterion': 'entropy', 'max_depth': 15}         0.997647"
            ]
          },
          "metadata": {
            "tags": []
          },
          "execution_count": 64
        }
      ]
    }
  ]
}