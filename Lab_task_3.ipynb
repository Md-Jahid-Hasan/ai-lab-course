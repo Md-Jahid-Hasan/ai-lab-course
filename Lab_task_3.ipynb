{
  "nbformat": 4,
  "nbformat_minor": 0,
  "metadata": {
    "colab": {
      "name": "Lab task 3.ipynb",
      "provenance": [],
      "collapsed_sections": [],
      "authorship_tag": "ABX9TyOLf3Wiv1upHC1hc+I3GiIf",
      "include_colab_link": true
    },
    "kernelspec": {
      "name": "python3",
      "display_name": "Python 3"
    }
  },
  "cells": [
    {
      "cell_type": "markdown",
      "metadata": {
        "id": "view-in-github",
        "colab_type": "text"
      },
      "source": [
        "<a href=\"https://colab.research.google.com/github/Md-Jahid-Hasan/ai-lab-course/blob/master/Lab_task_3.ipynb\" target=\"_parent\"><img src=\"https://colab.research.google.com/assets/colab-badge.svg\" alt=\"Open In Colab\"/></a>"
      ]
    },
    {
      "cell_type": "code",
      "metadata": {
        "id": "Il1Y_YRlDomr"
      },
      "source": [
        "course_name = []\r\n",
        "course_code = []"
      ],
      "execution_count": 32,
      "outputs": []
    },
    {
      "cell_type": "code",
      "metadata": {
        "colab": {
          "base_uri": "https://localhost:8080/"
        },
        "id": "wgahQqBAVfqJ",
        "outputId": "ec108e9c-1310-4530-aadf-63280f2b0a71"
      },
      "source": [
        "def navBar():\r\n",
        "  print(\"     This your dashboard for keep tracking of your semister course\")\r\n",
        "  print(\"|----------------------------------------------------------------------|\")\r\n",
        "  print(\"|-------------------------- Menu --------------------------------------|\")\r\n",
        "  print(\"|----------------------------------------------------------------------|\")\r\n",
        "  print(\"       Type 1 and press Enter for show your registerd course\")\r\n",
        "  print(\"              Type 2 and press Enter for Add course\")\r\n",
        "  print('             Type 3 and press Enter for remove course')\r\n",
        "\r\n",
        "navBar()\r\n",
        "show_your_registerd_course()"
      ],
      "execution_count": 33,
      "outputs": [
        {
          "output_type": "stream",
          "text": [
            "     This your dashboard for keep tracking of your semister course\n",
            "|----------------------------------------------------------------------|\n",
            "|-------------------------- Menu --------------------------------------|\n",
            "|----------------------------------------------------------------------|\n",
            "       Type 1 and press Enter for show your registerd course\n",
            "              Type 2 and press Enter for Add course\n",
            "             Type 3 and press Enter for remove course\n",
            "\n",
            "\n",
            "ID ---  Course Name --- Course Code\n"
          ],
          "name": "stdout"
        }
      ]
    },
    {
      "cell_type": "code",
      "metadata": {
        "id": "B2Jl7KAyWdE7"
      },
      "source": [
        "def show_your_registerd_course():\r\n",
        "  print()\r\n",
        "  if len(course_code) == 0:\r\n",
        "    print(\"No course in your list\")\r\n",
        "  else:\r\n",
        "    print(\"\\nID ---  Course Name --- Course Code\")\r\n",
        "    for id, course in enumerate(course_name):\r\n",
        "      print(f\"{id+1} --- {course} --- {course_code[id]}\")\r\n"
      ],
      "execution_count": 41,
      "outputs": []
    },
    {
      "cell_type": "code",
      "metadata": {
        "id": "d1hQ-FYPYSv9"
      },
      "source": [
        "def add_course(code, name):\r\n",
        "  course_code.append(code)\r\n",
        "  course_name.append(name)\r\n",
        "  show_your_registerd_course()\r\n"
      ],
      "execution_count": 24,
      "outputs": []
    },
    {
      "cell_type": "code",
      "metadata": {
        "id": "_nbzq02tzY0O"
      },
      "source": [
        "def remove_course(index):\r\n",
        "  course_code.pop(index)\r\n",
        "  course_name.pop(index)\r\n",
        "  show_your_registerd_course()\r\n"
      ],
      "execution_count": 25,
      "outputs": []
    },
    {
      "cell_type": "code",
      "metadata": {
        "colab": {
          "base_uri": "https://localhost:8080/"
        },
        "id": "9ll6qowB1DwX",
        "outputId": "c6b2fe16-cb07-4233-b963-94bc7c7e8d95"
      },
      "source": [
        "def main_page():\r\n",
        "  choice = int(input(\"Enter your choice: \"))\r\n",
        "  if choice == 1:\r\n",
        "    show_your_registerd_course()\r\n",
        "  elif choice == 2:\r\n",
        "    name = input(\"Enter course name: \")\r\n",
        "    code = input(\"Enter course code: \")\r\n",
        "    add_course(code, name)\r\n",
        "  elif choice == 3:\r\n",
        "    index = int(input(\"Enter course id: \"))\r\n",
        "    remove_course(index-1)\r\n",
        "  else:\r\n",
        "    print(\"Please insert a valid Input.\")\r\n",
        "    main_page()\r\n",
        "main_page()"
      ],
      "execution_count": 43,
      "outputs": [
        {
          "output_type": "stream",
          "text": [
            "Enter your choice: 2\n",
            "Enter course name: AI Lab\n",
            "Enter course code: CSE-303\n",
            "\n",
            "\n",
            "ID ---  Course Name --- Course Code\n",
            "1 --- AI --- CSE-302\n",
            "2 --- AI Lab --- CSE-303\n"
          ],
          "name": "stdout"
        }
      ]
    },
    {
      "cell_type": "code",
      "metadata": {
        "id": "Mzwq_0a1226o"
      },
      "source": [
        ""
      ],
      "execution_count": null,
      "outputs": []
    }
  ]
}